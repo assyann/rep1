{
  "nbformat": 4,
  "nbformat_minor": 0,
  "metadata": {
    "colab": {
      "provenance": [],
      "authorship_tag": "ABX9TyPRA3R8M9120QiIOAHKf/FB",
      "include_colab_link": true
    },
    "kernelspec": {
      "name": "python3",
      "display_name": "Python 3"
    },
    "language_info": {
      "name": "python"
    }
  },
  "cells": [
    {
      "cell_type": "markdown",
      "metadata": {
        "id": "view-in-github",
        "colab_type": "text"
      },
      "source": [
        "<a href=\"https://colab.research.google.com/github/assyann/rep1/blob/br1/Untitled.ipynb\" target=\"_parent\"><img src=\"https://colab.research.google.com/assets/colab-badge.svg\" alt=\"Open In Colab\"/></a>"
      ]
    },
    {
      "cell_type": "code",
      "source": [
        "answers = {\n",
        "    'Да': 'Вы успешно подписались на рассылку новостей о продукте.',\n",
        "    'Нет': 'Вы отказались от подписки на рассылку новостей о продукте.'\n",
        "}\n",
        "\n",
        "a = input()\n",
        "\n",
        "if a =='Да':\n",
        "  print(answers['Да'])\n",
        "elif a == 'Нет':\n",
        "  print(answers['Нет'])\n",
        "else:\n",
        "  print(\"Не понял Вас, попробуйте ещё раз.\")\n"
      ],
      "metadata": {
        "colab": {
          "base_uri": "https://localhost:8080/"
        },
        "id": "fIB4_WZt3G7W",
        "outputId": "dd773934-9a4d-477b-af77-263aea932612"
      },
      "execution_count": 2,
      "outputs": [
        {
          "output_type": "stream",
          "name": "stdout",
          "text": [
            "Да\n",
            "Вы успешно подписались на рассылку новостей о продукте.\n"
          ]
        }
      ]
    }
  ]
}